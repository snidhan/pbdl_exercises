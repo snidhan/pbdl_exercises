{
 "cells": [
  {
   "cell_type": "code",
   "execution_count": 28,
   "metadata": {},
   "outputs": [],
   "source": [
    "import torch\n",
    "import torch.nn as nn\n",
    "from torch.utils.data import Dataset, DataLoader\n",
    "import numpy as np\n",
    "import matplotlib.pyplot as plt\n",
    "import time"
   ]
  },
  {
   "cell_type": "code",
   "execution_count": 29,
   "metadata": {},
   "outputs": [
    {
     "name": "stdout",
     "output_type": "stream",
     "text": [
      "Device  cpu\n"
     ]
    }
   ],
   "source": [
    "device = torch.device(\"cpu\")\n",
    "print('Device ', device)"
   ]
  },
  {
   "cell_type": "code",
   "execution_count": 30,
   "metadata": {},
   "outputs": [],
   "source": [
    "class SimpleDataset(Dataset):\n",
    "    def __init__(self, input_data, output_data):\n",
    "        self.input_data = input_data\n",
    "        self.output_data = output_data\n",
    "\n",
    "    def __len__(self):\n",
    "        return len(self.input_data)\n",
    "\n",
    "    def __getitem__(self, idx):\n",
    "        return {\"input\": self.input_data[idx], \"output\": self.output_data[idx]}\n",
    "\n",
    "\n",
    "class SimpleModel(nn.Module):\n",
    "    def __init__(self, input_dim, output_dim, hidden_dim):\n",
    "        super(SimpleModel, self).__init__()\n",
    "        self.fc1 = nn.Linear(input_dim, hidden_dim)\n",
    "        self.fc2 = nn.Linear(hidden_dim, hidden_dim)\n",
    "        self.fc3 = nn.Linear(hidden_dim, output_dim)\n",
    "        self.act = nn.ReLU()\n",
    "\n",
    "    def forward(self, x):\n",
    "        x = self.act(self.fc1(x))\n",
    "        x = self.act(self.fc2(x))\n",
    "        x = self.fc3(x)\n",
    "        return x"
   ]
  },
  {
   "cell_type": "code",
   "execution_count": 31,
   "metadata": {},
   "outputs": [
    {
     "name": "stdout",
     "output_type": "stream",
     "text": [
      "Time taken to train  32.44774508476257\n"
     ]
    }
   ],
   "source": [
    "class SimpleModelTrainer:\n",
    "    def __init__(\n",
    "        self,\n",
    "        model,\n",
    "        train_dataset,\n",
    "        optimizer,\n",
    "        loss_fn,\n",
    "        batch_size,\n",
    "        max_epoch=100,\n",
    "    ):\n",
    "        self.model = model  # self.model points to first_model\n",
    "        self.train_dataloader = DataLoader(\n",
    "            train_dataset, batch_size=batch_size, shuffle=True\n",
    "        )\n",
    "        self.optimizer = optimizer\n",
    "        self.loss_fn = loss_fn\n",
    "        self.max_epoch = max_epoch\n",
    "\n",
    "    def train(self):\n",
    "        for _ in range(1, self.max_epoch):\n",
    "            for data in self.train_dataloader:\n",
    "                inp, out = data[\"input\"], data[\"output\"]\n",
    "                pred = self.model(inp)\n",
    "                self.optimizer.zero_grad()\n",
    "                loss = self.loss_fn(pred, out)\n",
    "                loss.backward()\n",
    "                self.optimizer.step()\n",
    "\n",
    "\n",
    "first_model = SimpleModel(1, 1, 32).to(device)\n",
    "loss_fn = nn.MSELoss()\n",
    "optimizer = torch.optim.Adam(\n",
    "    first_model.parameters(), lr=1e-4\n",
    ")  # optimizer gets the reference to first_model\n",
    "\n",
    "x = np.linspace(0, 100, 10000).reshape(10000, 1).astype(np.float32)\n",
    "random_ones = np.random.choice([-1, 1], size=10000).reshape(10000, 1).astype(np.float32)\n",
    "y = np.sqrt(x)*random_ones\n",
    "# y = np.sqrt(x)\n",
    "\n",
    "x = torch.from_numpy(x).to(device)\n",
    "y = torch.from_numpy(y).to(device)\n",
    "\n",
    "train_data = SimpleDataset(x, y)\n",
    "\n",
    "trainer = SimpleModelTrainer(\n",
    "    first_model, train_data, optimizer, loss_fn, 1024, max_epoch=1000\n",
    ")\n",
    "start_time = time.time()\n",
    "trainer.train()\n",
    "print(\"Time taken to train \", time.time() - start_time)"
   ]
  },
  {
   "cell_type": "code",
   "execution_count": null,
   "metadata": {},
   "outputs": [
    {
     "data": {
      "text/plain": [
       "[<matplotlib.lines.Line2D at 0x16e5e7e30>]"
      ]
     },
     "execution_count": 35,
     "metadata": {},
     "output_type": "execute_result"
    },
    {
     "data": {
      "image/png": "[encoded data removed]",
      "text/plain": [
       "<Figure size 640x480 with 1 Axes>"
      ]
     },
     "metadata": {},
     "output_type": "display_data"
    }
   ],
   "source": [
    "y_pred = trainer.model.forward(x).detach().numpy()\n",
    "plt.plot(x, y, \"r*\")\n",
    "plt.plot(x, y_pred, \"ks\")"
   ]
  },
  {
   "cell_type": "code",
   "execution_count": 38,
   "metadata": {},
   "outputs": [
    {
     "name": "stdout",
     "output_type": "stream",
     "text": [
      "Time taken to train  29.117624759674072\n"
     ]
    }
   ],
   "source": [
    "class SimpleModelTrainer:\n",
    "    def __init__(\n",
    "        self,\n",
    "        model,\n",
    "        train_dataset,\n",
    "        optimizer,\n",
    "        loss_fn,\n",
    "        batch_size,\n",
    "        max_epoch=100,\n",
    "    ):\n",
    "        self.model = model  # self.model points to first_model\n",
    "        self.train_dataloader = DataLoader(\n",
    "            train_dataset, batch_size=batch_size, shuffle=True\n",
    "        )\n",
    "        self.optimizer = optimizer\n",
    "        self.loss_fn = loss_fn\n",
    "        self.max_epoch = max_epoch\n",
    "\n",
    "    def train(self):\n",
    "        for _ in range(1, self.max_epoch):\n",
    "            for data in self.train_dataloader:\n",
    "                inp, out = data[\"input\"], data[\"output\"]\n",
    "                pred = self.model(inp)\n",
    "                self.optimizer.zero_grad()\n",
    "                loss = self.loss_fn(pred**2, out)\n",
    "                loss.backward()\n",
    "                self.optimizer.step()\n",
    "\n",
    "\n",
    "first_model = SimpleModel(1, 1, 32).to(device)\n",
    "loss_fn = nn.MSELoss()\n",
    "optimizer = torch.optim.Adam(\n",
    "    first_model.parameters(), lr=1e-4\n",
    ")  # optimizer gets the reference to first_model\n",
    "\n",
    "x = np.linspace(0, 100, 10000).reshape(10000, 1).astype(np.float32)\n",
    "random_ones = np.random.choice([-1, 1], size=10000).reshape(10000, 1).astype(np.float32)\n",
    "y = np.sqrt(x)*random_ones\n",
    "# y = np.sqrt(x)\n",
    "\n",
    "x = torch.from_numpy(x).to(device)\n",
    "y = torch.from_numpy(y).to(device)\n",
    "\n",
    "train_data = SimpleDataset(x, x)\n",
    "\n",
    "trainer = SimpleModelTrainer(\n",
    "    first_model, train_data, optimizer, loss_fn, 1024, max_epoch=1000\n",
    ")\n",
    "start_time = time.time()\n",
    "trainer.train()\n",
    "print(\"Time taken to train \", time.time() - start_time)"
   ]
  },
  {
   "cell_type": "code",
   "execution_count": 37,
   "metadata": {},
   "outputs": [
    {
     "data": {
      "text/plain": [
       "[<matplotlib.lines.Line2D at 0x16e614050>]"
      ]
     },
     "execution_count": 37,
     "metadata": {},
     "output_type": "execute_result"
    },
    {
     "data": {
      "image/png": "[encoded data removed]",
      "text/plain": [
       "<Figure size 640x480 with 1 Axes>"
      ]
     },
     "metadata": {},
     "output_type": "display_data"
    }
   ],
   "source": [
    "y_pred = trainer.model.forward(x).detach().numpy()\n",
    "plt.plot(x, y, \"r*\")\n",
    "plt.plot(x, y_pred, \"ks\")"
   ]
  }
 ],
 "metadata": {
  "kernelspec": {
   "display_name": "base",
   "language": "python",
   "name": "python3"
  },
  "language_info": {
   "codemirror_mode": {
    "name": "ipython",
    "version": 3
   },
   "file_extension": ".py",
   "mimetype": "text/x-python",
   "name": "python",
   "nbconvert_exporter": "python",
   "pygments_lexer": "ipython3",
   "version": "3.12.8"
  }
 },
 "nbformat": 4,
 "nbformat_minor": 2
}
